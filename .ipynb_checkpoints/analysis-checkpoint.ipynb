{
 "cells": [
  {
   "cell_type": "markdown",
   "metadata": {},
   "source": [
    "# Analyze mood data"
   ]
  },
  {
   "cell_type": "markdown",
   "metadata": {},
   "source": [
    "First, we start by importing the \"packages\" we need to do these analyses; these \"packages\" are pieces of software that allow us to perform certain functions. For example, we will start by importing a package that allows us to load data from an Excel file:"
   ]
  },
  {
   "cell_type": "code",
   "execution_count": 5,
   "metadata": {},
   "outputs": [
    {
     "data": {
      "text/html": [
       "<div>\n",
       "<style scoped>\n",
       "    .dataframe tbody tr th:only-of-type {\n",
       "        vertical-align: middle;\n",
       "    }\n",
       "\n",
       "    .dataframe tbody tr th {\n",
       "        vertical-align: top;\n",
       "    }\n",
       "\n",
       "    .dataframe thead th {\n",
       "        text-align: right;\n",
       "    }\n",
       "</style>\n",
       "<table border=\"1\" class=\"dataframe\">\n",
       "  <thead>\n",
       "    <tr style=\"text-align: right;\">\n",
       "      <th></th>\n",
       "      <th>Actual Mood (1-4)</th>\n",
       "      <th>Breakfast (0-3)</th>\n",
       "      <th>Lunch (0-3)</th>\n",
       "      <th>Dinner (0-3)</th>\n",
       "      <th>Stress (0-3)</th>\n",
       "      <th>Sleep (0-3)</th>\n",
       "      <th>Exercise (0-3)</th>\n",
       "      <th>Social interactions (0-3)</th>\n",
       "    </tr>\n",
       "    <tr>\n",
       "      <th>Individual ID</th>\n",
       "      <th></th>\n",
       "      <th></th>\n",
       "      <th></th>\n",
       "      <th></th>\n",
       "      <th></th>\n",
       "      <th></th>\n",
       "      <th></th>\n",
       "      <th></th>\n",
       "    </tr>\n",
       "  </thead>\n",
       "  <tbody>\n",
       "    <tr>\n",
       "      <th>1</th>\n",
       "      <td>1</td>\n",
       "      <td>3</td>\n",
       "      <td>2</td>\n",
       "      <td>1</td>\n",
       "      <td>3</td>\n",
       "      <td>2</td>\n",
       "      <td>3</td>\n",
       "      <td>3</td>\n",
       "    </tr>\n",
       "    <tr>\n",
       "      <th>2</th>\n",
       "      <td>1</td>\n",
       "      <td>1</td>\n",
       "      <td>1</td>\n",
       "      <td>0</td>\n",
       "      <td>1</td>\n",
       "      <td>1</td>\n",
       "      <td>0</td>\n",
       "      <td>3</td>\n",
       "    </tr>\n",
       "    <tr>\n",
       "      <th>3</th>\n",
       "      <td>3</td>\n",
       "      <td>1</td>\n",
       "      <td>3</td>\n",
       "      <td>1</td>\n",
       "      <td>0</td>\n",
       "      <td>3</td>\n",
       "      <td>1</td>\n",
       "      <td>0</td>\n",
       "    </tr>\n",
       "    <tr>\n",
       "      <th>4</th>\n",
       "      <td>3</td>\n",
       "      <td>1</td>\n",
       "      <td>1</td>\n",
       "      <td>1</td>\n",
       "      <td>1</td>\n",
       "      <td>2</td>\n",
       "      <td>0</td>\n",
       "      <td>2</td>\n",
       "    </tr>\n",
       "    <tr>\n",
       "      <th>5</th>\n",
       "      <td>3</td>\n",
       "      <td>1</td>\n",
       "      <td>0</td>\n",
       "      <td>3</td>\n",
       "      <td>0</td>\n",
       "      <td>3</td>\n",
       "      <td>1</td>\n",
       "      <td>0</td>\n",
       "    </tr>\n",
       "  </tbody>\n",
       "</table>\n",
       "</div>"
      ],
      "text/plain": [
       "               Actual Mood (1-4)  Breakfast (0-3)  Lunch (0-3)  Dinner (0-3)  \\\n",
       "Individual ID                                                                  \n",
       "1                              1                3            2             1   \n",
       "2                              1                1            1             0   \n",
       "3                              3                1            3             1   \n",
       "4                              3                1            1             1   \n",
       "5                              3                1            0             3   \n",
       "\n",
       "               Stress (0-3)  Sleep (0-3)  Exercise (0-3)  \\\n",
       "Individual ID                                              \n",
       "1                         3            2               3   \n",
       "2                         1            1               0   \n",
       "3                         0            3               1   \n",
       "4                         1            2               0   \n",
       "5                         0            3               1   \n",
       "\n",
       "               Social interactions (0-3)  \n",
       "Individual ID                             \n",
       "1                                      3  \n",
       "2                                      3  \n",
       "3                                      0  \n",
       "4                                      2  \n",
       "5                                      0  "
      ]
     },
     "execution_count": 5,
     "metadata": {},
     "output_type": "execute_result"
    }
   ],
   "source": [
    "import pandas as pd\n",
    "\n",
    "# load in the data:\n",
    "data = pd.read_excel('mood-data.xlsx', index_col=0)\n",
    "\n",
    "# print the first five rows of the data to the screen using the \"head\" (short for \"header\") command:\n",
    "data.head()"
   ]
  },
  {
   "cell_type": "markdown",
   "metadata": {},
   "source": [
    "...or we could create our own data here in the notebook instead of using pre-loaded data (__we could obviously make this particular cell much easier to use and a lot prettier__):"
   ]
  },
  {
   "cell_type": "code",
   "execution_count": 65,
   "metadata": {},
   "outputs": [
    {
     "data": {
      "text/html": [
       "<div>\n",
       "<style scoped>\n",
       "    .dataframe tbody tr th:only-of-type {\n",
       "        vertical-align: middle;\n",
       "    }\n",
       "\n",
       "    .dataframe tbody tr th {\n",
       "        vertical-align: top;\n",
       "    }\n",
       "\n",
       "    .dataframe thead th {\n",
       "        text-align: right;\n",
       "    }\n",
       "</style>\n",
       "<table border=\"1\" class=\"dataframe\">\n",
       "  <thead>\n",
       "    <tr style=\"text-align: right;\">\n",
       "      <th></th>\n",
       "      <th>Actual Mood (1-4)</th>\n",
       "      <th>Breakfast (0-3)</th>\n",
       "      <th>Dinner (0-3)</th>\n",
       "      <th>Exercise (0-3)</th>\n",
       "      <th>Lunch (0-3)</th>\n",
       "      <th>Sleep (0-3)</th>\n",
       "      <th>Social interactions (0-3)</th>\n",
       "      <th>Stress (0-3)</th>\n",
       "    </tr>\n",
       "    <tr>\n",
       "      <th>Name</th>\n",
       "      <th></th>\n",
       "      <th></th>\n",
       "      <th></th>\n",
       "      <th></th>\n",
       "      <th></th>\n",
       "      <th></th>\n",
       "      <th></th>\n",
       "      <th></th>\n",
       "    </tr>\n",
       "  </thead>\n",
       "  <tbody>\n",
       "    <tr>\n",
       "      <th>James</th>\n",
       "      <td>4</td>\n",
       "      <td>1</td>\n",
       "      <td>3</td>\n",
       "      <td>2</td>\n",
       "      <td>0</td>\n",
       "      <td>2</td>\n",
       "      <td>1</td>\n",
       "      <td>3</td>\n",
       "    </tr>\n",
       "    <tr>\n",
       "      <th>Sophie</th>\n",
       "      <td>4</td>\n",
       "      <td>3</td>\n",
       "      <td>2</td>\n",
       "      <td>3</td>\n",
       "      <td>3</td>\n",
       "      <td>1</td>\n",
       "      <td>2</td>\n",
       "      <td>2</td>\n",
       "    </tr>\n",
       "    <tr>\n",
       "      <th>Gwen</th>\n",
       "      <td>2</td>\n",
       "      <td>3</td>\n",
       "      <td>3</td>\n",
       "      <td>3</td>\n",
       "      <td>3</td>\n",
       "      <td>1</td>\n",
       "      <td>2</td>\n",
       "      <td>2</td>\n",
       "    </tr>\n",
       "  </tbody>\n",
       "</table>\n",
       "</div>"
      ],
      "text/plain": [
       "        Actual Mood (1-4)  Breakfast (0-3)  Dinner (0-3)  Exercise (0-3)  \\\n",
       "Name                                                                       \n",
       "James                   4                1             3               2   \n",
       "Sophie                  4                3             2               3   \n",
       "Gwen                    2                3             3               3   \n",
       "\n",
       "        Lunch (0-3)  Sleep (0-3)  Social interactions (0-3)  Stress (0-3)  \n",
       "Name                                                                       \n",
       "James             0            2                          1             3  \n",
       "Sophie            3            1                          2             2  \n",
       "Gwen              3            1                          2             2  "
      ]
     },
     "execution_count": 65,
     "metadata": {},
     "output_type": "execute_result"
    }
   ],
   "source": [
    "student1 = {\n",
    "    'Name': 'James',\n",
    "    'Actual Mood (1-4)': 4,\n",
    "    'Breakfast (0-3)': 1,\n",
    "    'Lunch (0-3)': 0,\n",
    "    'Dinner (0-3)': 3,\n",
    "    'Stress (0-3)': 3,\n",
    "    'Sleep (0-3)': 2,\n",
    "    'Exercise (0-3)': 2,\n",
    "    'Social interactions (0-3)': 1,\n",
    "    }\n",
    "\n",
    "student2 = {\n",
    "    'Name': 'Sophie',\n",
    "    'Actual Mood (1-4)': 4,\n",
    "    'Breakfast (0-3)': 3,\n",
    "    'Lunch (0-3)': 3,\n",
    "    'Dinner (0-3)': 2,\n",
    "    'Stress (0-3)': 2,\n",
    "    'Sleep (0-3)': 1,\n",
    "    'Exercise (0-3)': 3,\n",
    "    'Social interactions (0-3)': 2,\n",
    "    }\n",
    "\n",
    "student3 = {\n",
    "    'Name': 'Gwen',\n",
    "    'Actual Mood (1-4)': 2,\n",
    "    'Breakfast (0-3)': 3,\n",
    "    'Lunch (0-3)': 3,\n",
    "    'Dinner (0-3)': 3,\n",
    "    'Stress (0-3)': 2,\n",
    "    'Sleep (0-3)': 1,\n",
    "    'Exercise (0-3)': 3,\n",
    "    'Social interactions (0-3)': 2,\n",
    "    }\n",
    "\n",
    "test_data = pd.DataFrame([student1, student2, student3])\n",
    "test_data = test_data.set_index('Name')\n",
    "test_data.head()"
   ]
  },
  {
   "cell_type": "markdown",
   "metadata": {},
   "source": [
    "Let's visualize the (pre-loaded) data; we can start by looking at the matrix itself using a heatmap:"
   ]
  },
  {
   "cell_type": "code",
   "execution_count": 53,
   "metadata": {},
   "outputs": [
    {
     "data": {
      "image/png": "[encoded data removed]",
      "text/plain": [
       "<Figure size 576x576 with 2 Axes>"
      ]
     },
     "metadata": {
      "needs_background": "light"
     },
     "output_type": "display_data"
    }
   ],
   "source": [
    "# import a package that will allow us to plot:\n",
    "import matplotlib.pyplot as plt\n",
    "import seaborn as sns\n",
    "\n",
    "# a heatmap allows us to visualize the matrix of data itself:\n",
    "fig = plt.figure(figsize = (8,8))\n",
    "ax = sns.heatmap(data, cmap=[(1, 0, 0), (1, 0.5, 0), (0, 0.5, 1), (0, 0, 1)]), plt.ylabel('Individual'), plt.xlabel('Category')\n",
    "plt.show()"
   ]
  },
  {
   "cell_type": "markdown",
   "metadata": {},
   "source": [
    "Next, we can at the data by each category by visualizing the distributions within each column (i.e., what ranges of values are represented in each column) using a box plot:"
   ]
  },
  {
   "cell_type": "code",
   "execution_count": 56,
   "metadata": {},
   "outputs": [
    {
     "data": {
      "text/plain": [
       "<Figure size 576x576 with 0 Axes>"
      ]
     },
     "metadata": {},
     "output_type": "display_data"
    },
    {
     "data": {
      "image/png": "[encoded data removed]",
      "text/plain": [
       "<Figure size 360x360 with 1 Axes>"
      ]
     },
     "metadata": {
      "needs_background": "light"
     },
     "output_type": "display_data"
    }
   ],
   "source": [
    "# a heatmap allows us to visualize the matrix of data itself:\n",
    "fig = plt.figure(figsize = (8,8))\n",
    "sns.catplot(data=data, kind='box'), plt.xticks(rotation=90), plt.ylabel('Count'), plt.xlabel('Category')\n",
    "plt.show()"
   ]
  },
  {
   "cell_type": "markdown",
   "metadata": {},
   "source": [
    "Next, we can ask whether a particular row contributes to the overall mood by looking at the correlation of a category with the overall mood across all individuals:"
   ]
  },
  {
   "cell_type": "code",
   "execution_count": 55,
   "metadata": {},
   "outputs": [
    {
     "data": {
      "image/png": "[encoded data removed]",
      "text/plain": [
       "<Figure size 576x576 with 1 Axes>"
      ]
     },
     "metadata": {
      "needs_background": "light"
     },
     "output_type": "display_data"
    }
   ],
   "source": [
    "# import a package that will compute the correlation:\n",
    "import scipy.stats as stats\n",
    "\n",
    "# compute correlations of columns versus the overall mood\n",
    "r, p = stats.pearsonr(x=data['Actual Mood (1-4)'], y=data['Breakfast (0-3)'])\n",
    "\n",
    "# plot the correlations\n",
    "fig = plt.figure(figsize = (8,8))\n",
    "sns.scatterplot(x=data['Actual Mood (1-4)'], y=data['Breakfast (0-3)']), plt.title(f'r={r}, p={p}')\n",
    "plt.show()"
   ]
  },
  {
   "cell_type": "markdown",
   "metadata": {},
   "source": [
    "We know that multiple factors probably contribute to our overall mood. To capture this behavior, we need multivariate statistics:"
   ]
  },
  {
   "cell_type": "code",
   "execution_count": 60,
   "metadata": {},
   "outputs": [
    {
     "data": {
      "image/png": "[encoded data removed]",
      "text/plain": [
       "<Figure size 576x576 with 1 Axes>"
      ]
     },
     "metadata": {
      "needs_background": "light"
     },
     "output_type": "display_data"
    }
   ],
   "source": [
    "# import package that allows for multivariate statistics:\n",
    "from sklearn.decomposition import PCA\n",
    "\n",
    "# run principal component analysis:\n",
    "pca = PCA(n_components=2)\n",
    "principalComponents = pca.fit_transform(data)\n",
    "principalDf = pd.DataFrame(data = principalComponents, columns = ['PC1', 'PC2'])\n",
    "\n",
    "# visualie results\n",
    "fig = plt.figure(figsize = (8,8))\n",
    "plt.scatter(x=principalDf['PC1'], y=principalDf['PC2']), plt.ylabel('PC2'), plt.xlabel('PC1')\n",
    "plt.show()"
   ]
  }
 ],
 "metadata": {
  "kernelspec": {
   "display_name": "Python 3",
   "language": "python",
   "name": "python3"
  },
  "language_info": {
   "codemirror_mode": {
    "name": "ipython",
    "version": 3
   },
   "file_extension": ".py",
   "mimetype": "text/x-python",
   "name": "python",
   "nbconvert_exporter": "python",
   "pygments_lexer": "ipython3",
   "version": "3.6.6"
  }
 },
 "nbformat": 4,
 "nbformat_minor": 2
}
